{
 "cells": [
  {
   "cell_type": "code",
   "execution_count": 3,
   "metadata": {},
   "outputs": [],
   "source": [
    "# Generalized imports\n",
    "import pandas as pd\n",
    "import re, datetime\n",
    "import numpy as np\n",
    "import warnings\n",
    "\n",
    "warnings.filterwarnings(\"ignore\")"
   ]
  },
  {
   "cell_type": "code",
   "execution_count": 4,
   "metadata": {},
   "outputs": [],
   "source": [
    "# Visualization imports\n",
    "import seaborn as sns\n",
    "import matplotlib.pyplot as plt\n",
    "%matplotlib inline"
   ]
  },
  {
   "cell_type": "code",
   "execution_count": 7,
   "metadata": {},
   "outputs": [],
   "source": [
    "# ML package imports\n",
    "import sklearn\n",
    "import keras\n",
    "import tensorflow"
   ]
  },
  {
   "cell_type": "markdown",
   "metadata": {},
   "source": [
    "## Utility functions\n",
    "#### Some of the utility functions that will be used across the project are written in a separate file called \"utility_functions.py\" for reusability. In this notebook, however, running this cell should be enough to use them inside the project.\n",
    "\n",
    "Filename: utility_functions.py"
   ]
  },
  {
   "cell_type": "code",
   "execution_count": 12,
   "metadata": {},
   "outputs": [],
   "source": [
    "from utility_functions import *"
   ]
  },
  {
   "cell_type": "markdown",
   "metadata": {},
   "source": [
    "## Data cleaning functions\n",
    "\n",
    "#### Custom functions that help in cleaning of a dataframe have been written inside this file as a class for better readability and reusability.\n",
    "\n",
    "Filename: data_cleaning.py"
   ]
  },
  {
   "cell_type": "code",
   "execution_count": null,
   "metadata": {},
   "outputs": [],
   "source": [
    "from data_cleaning import "
   ]
  },
  {
   "cell_type": "markdown",
   "metadata": {},
   "source": [
    "## Reading reuters data from JSON"
   ]
  },
  {
   "cell_type": "code",
   "execution_count": 13,
   "metadata": {},
   "outputs": [],
   "source": [
    "# Reading the reuters data from a JSON into a Pandas Dataframe\n",
    "reuters_raw_df = pd.read_json(\"input_data/xmldata.json\")"
   ]
  },
  {
   "cell_type": "code",
   "execution_count": 16,
   "metadata": {},
   "outputs": [
    {
     "data": {
      "text/plain": [
       "(48257, 6)"
      ]
     },
     "execution_count": 16,
     "metadata": {},
     "output_type": "execute_result"
    }
   ],
   "source": [
    "# Checking the dimensions of reuters data\n",
    "reuters_raw_df.shape"
   ]
  },
  {
   "cell_type": "code",
   "execution_count": 17,
   "metadata": {},
   "outputs": [
    {
     "data": {
      "text/html": [
       "<div>\n",
       "<style scoped>\n",
       "    .dataframe tbody tr th:only-of-type {\n",
       "        vertical-align: middle;\n",
       "    }\n",
       "\n",
       "    .dataframe tbody tr th {\n",
       "        vertical-align: top;\n",
       "    }\n",
       "\n",
       "    .dataframe thead th {\n",
       "        text-align: right;\n",
       "    }\n",
       "</style>\n",
       "<table border=\"1\" class=\"dataframe\">\n",
       "  <thead>\n",
       "    <tr style=\"text-align: right;\">\n",
       "      <th></th>\n",
       "      <th>headline</th>\n",
       "      <th>text</th>\n",
       "      <th>bip:topics</th>\n",
       "      <th>dc.date.pubished</th>\n",
       "      <th>itemid</th>\n",
       "      <th>XMLfilename</th>\n",
       "    </tr>\n",
       "  </thead>\n",
       "  <tbody>\n",
       "    <tr>\n",
       "      <th>0</th>\n",
       "      <td>RTRS-NAB jumps 2.3 pct on buy-back plan.</td>\n",
       "      <td>\\nShares in National Australia Bank Ltd jumped...</td>\n",
       "      <td>[C15, C152, C17, C171, C18, C181, CCAT]</td>\n",
       "      <td>1997-03-24</td>\n",
       "      <td>464661</td>\n",
       "      <td>464661newsML.xml</td>\n",
       "    </tr>\n",
       "    <tr>\n",
       "      <th>1</th>\n",
       "      <td>Care Group Inc Q4 shr loss vs profit.</td>\n",
       "      <td>\\n(000's Omitted)\\n\\t\\t\\t\\t\\t   YEAR END DECEM...</td>\n",
       "      <td>[C15, C151, C1511, CCAT]</td>\n",
       "      <td>1997-03-31</td>\n",
       "      <td>476242</td>\n",
       "      <td>476242newsML.xml</td>\n",
       "    </tr>\n",
       "    <tr>\n",
       "      <th>2</th>\n",
       "      <td>France urges Israel to stick by Oslo accords.</td>\n",
       "      <td>\\nFrance urged Israel on Monday to stick to th...</td>\n",
       "      <td>[GCAT, GDIP]</td>\n",
       "      <td>1997-03-24</td>\n",
       "      <td>464382</td>\n",
       "      <td>464382newsML.xml</td>\n",
       "    </tr>\n",
       "    <tr>\n",
       "      <th>3</th>\n",
       "      <td>Former Mexican official denies taking drug bri...</td>\n",
       "      <td>\\nA former Mexican deputy attorney general on ...</td>\n",
       "      <td>[GCAT, GCRIM]</td>\n",
       "      <td>1997-03-15</td>\n",
       "      <td>445205</td>\n",
       "      <td>445205newsML.xml</td>\n",
       "    </tr>\n",
       "    <tr>\n",
       "      <th>4</th>\n",
       "      <td>Krupp says Dortmund furnace won't be closed.</td>\n",
       "      <td>\\nKrupp will not close at least part of its Do...</td>\n",
       "      <td>[C18, C181, C24, CCAT]</td>\n",
       "      <td>1997-03-20</td>\n",
       "      <td>457626</td>\n",
       "      <td>457626newsML.xml</td>\n",
       "    </tr>\n",
       "  </tbody>\n",
       "</table>\n",
       "</div>"
      ],
      "text/plain": [
       "                                            headline  \\\n",
       "0           RTRS-NAB jumps 2.3 pct on buy-back plan.   \n",
       "1              Care Group Inc Q4 shr loss vs profit.   \n",
       "2      France urges Israel to stick by Oslo accords.   \n",
       "3  Former Mexican official denies taking drug bri...   \n",
       "4       Krupp says Dortmund furnace won't be closed.   \n",
       "\n",
       "                                                text  \\\n",
       "0  \\nShares in National Australia Bank Ltd jumped...   \n",
       "1  \\n(000's Omitted)\\n\\t\\t\\t\\t\\t   YEAR END DECEM...   \n",
       "2  \\nFrance urged Israel on Monday to stick to th...   \n",
       "3  \\nA former Mexican deputy attorney general on ...   \n",
       "4  \\nKrupp will not close at least part of its Do...   \n",
       "\n",
       "                                bip:topics dc.date.pubished  itemid  \\\n",
       "0  [C15, C152, C17, C171, C18, C181, CCAT]       1997-03-24  464661   \n",
       "1                 [C15, C151, C1511, CCAT]       1997-03-31  476242   \n",
       "2                             [GCAT, GDIP]       1997-03-24  464382   \n",
       "3                            [GCAT, GCRIM]       1997-03-15  445205   \n",
       "4                   [C18, C181, C24, CCAT]       1997-03-20  457626   \n",
       "\n",
       "        XMLfilename  \n",
       "0  464661newsML.xml  \n",
       "1  476242newsML.xml  \n",
       "2  464382newsML.xml  \n",
       "3  445205newsML.xml  \n",
       "4  457626newsML.xml  "
      ]
     },
     "execution_count": 17,
     "metadata": {},
     "output_type": "execute_result"
    }
   ],
   "source": [
    "# Checking the first 5 rows of reuters data\n",
    "reuters_raw_df.head(5)"
   ]
  },
  {
   "cell_type": "markdown",
   "metadata": {},
   "source": [
    "## Cleaning the reuters data"
   ]
  },
  {
   "cell_type": "code",
   "execution_count": null,
   "metadata": {},
   "outputs": [],
   "source": []
  }
 ],
 "metadata": {
  "kernelspec": {
   "display_name": "Python 3",
   "language": "python",
   "name": "python3"
  },
  "language_info": {
   "codemirror_mode": {
    "name": "ipython",
    "version": 3
   },
   "file_extension": ".py",
   "mimetype": "text/x-python",
   "name": "python",
   "nbconvert_exporter": "python",
   "pygments_lexer": "ipython3",
   "version": "3.7.2"
  }
 },
 "nbformat": 4,
 "nbformat_minor": 2
}
